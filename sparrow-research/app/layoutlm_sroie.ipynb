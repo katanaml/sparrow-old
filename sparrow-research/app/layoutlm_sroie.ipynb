{
 "cells": [
  {
   "cell_type": "code",
   "execution_count": 2,
   "metadata": {
    "collapsed": true
   },
   "outputs": [],
   "source": [
    "import os\n",
    "import glob\n",
    "import json\n",
    "import random\n",
    "from pathlib import Path\n",
    "from difflib import SequenceMatcher\n",
    "\n",
    "\n",
    "import cv2\n",
    "import pandas as pd\n",
    "import numpy as np\n",
    "from PIL import Image\n",
    "from tqdm import tqdm\n",
    "from IPython.display import display\n",
    "import matplotlib\n",
    "from matplotlib import pyplot, patches"
   ]
  },
  {
   "cell_type": "code",
   "execution_count": 3,
   "outputs": [],
   "source": [
    "sroie_folder_path = Path('/Users/andrejb/infra/shared/katana-git/sparrow/data/sroie/SROIE2019')\n",
    "example_file = Path('X51005365187.txt')"
   ],
   "metadata": {
    "collapsed": false,
    "pycharm": {
     "name": "#%%\n"
    }
   }
  },
  {
   "cell_type": "code",
   "execution_count": 10,
   "outputs": [
    {
     "name": "stdout",
     "output_type": "stream",
     "text": [
      "== File content ==\n",
      "17,35,371,35,371,91,17,91,3-1707067\r\n",
      "222,115,511,115,511,143,222,143,F&P PHARMACY\r\n",
      "274,148,457,148,457,174,274,174,(002309592-P)\r\n",
      "204,183,529,183,529,210,204,210,NO.20. GROUND FLOOR,\r\n",
      "99,218,632,218,632,244,99,244,JALAN BS 10/6 TAMAN BUKIT SERDANG,\r\n",
      "\n",
      "== Dataframe ==\n"
     ]
    },
    {
     "name": "stderr",
     "output_type": "stream",
     "text": [
      "/Users/andrejb/infra/shared/katana-git/sparrow/venv/lib/python3.7/site-packages/ipykernel_launcher.py:29: FutureWarning: Could not cast to int16, falling back to object. This behavior is deprecated. In a future version, when a dtype is passed to 'DataFrame', either all columns will be cast to that dtype, or a TypeError will be raised\n"
     ]
    },
    {
     "data": {
      "text/plain": "       filename   x0   y0   x2   y2                                line\n0  X51005365187   17   35  371   91                           3-1707067\n1  X51005365187  222  115  511  143                        F&P PHARMACY\n2  X51005365187  274  148  457  174                       (002309592-P)\n3  X51005365187  204  183  529  210                NO.20. GROUND FLOOR,\n4  X51005365187   99  218  632  244  JALAN BS 10/6 TAMAN BUKIT SERDANG,",
      "text/html": "<div>\n<style scoped>\n    .dataframe tbody tr th:only-of-type {\n        vertical-align: middle;\n    }\n\n    .dataframe tbody tr th {\n        vertical-align: top;\n    }\n\n    .dataframe thead th {\n        text-align: right;\n    }\n</style>\n<table border=\"1\" class=\"dataframe\">\n  <thead>\n    <tr style=\"text-align: right;\">\n      <th></th>\n      <th>filename</th>\n      <th>x0</th>\n      <th>y0</th>\n      <th>x2</th>\n      <th>y2</th>\n      <th>line</th>\n    </tr>\n  </thead>\n  <tbody>\n    <tr>\n      <th>0</th>\n      <td>X51005365187</td>\n      <td>17</td>\n      <td>35</td>\n      <td>371</td>\n      <td>91</td>\n      <td>3-1707067</td>\n    </tr>\n    <tr>\n      <th>1</th>\n      <td>X51005365187</td>\n      <td>222</td>\n      <td>115</td>\n      <td>511</td>\n      <td>143</td>\n      <td>F&amp;P PHARMACY</td>\n    </tr>\n    <tr>\n      <th>2</th>\n      <td>X51005365187</td>\n      <td>274</td>\n      <td>148</td>\n      <td>457</td>\n      <td>174</td>\n      <td>(002309592-P)</td>\n    </tr>\n    <tr>\n      <th>3</th>\n      <td>X51005365187</td>\n      <td>204</td>\n      <td>183</td>\n      <td>529</td>\n      <td>210</td>\n      <td>NO.20. GROUND FLOOR,</td>\n    </tr>\n    <tr>\n      <th>4</th>\n      <td>X51005365187</td>\n      <td>99</td>\n      <td>218</td>\n      <td>632</td>\n      <td>244</td>\n      <td>JALAN BS 10/6 TAMAN BUKIT SERDANG,</td>\n    </tr>\n  </tbody>\n</table>\n</div>"
     },
     "execution_count": 10,
     "metadata": {},
     "output_type": "execute_result"
    }
   ],
   "source": [
    "def read_bbox_and_words(path: Path):\n",
    "  bbox_and_words_list = []\n",
    "\n",
    "  with open(path, 'r', errors='ignore') as f:\n",
    "    for line in f.read().splitlines():\n",
    "      if len(line) == 0:\n",
    "        continue\n",
    "\n",
    "      split_lines = line.split(\",\")\n",
    "\n",
    "      bbox = np.array(split_lines[0:8], dtype=np.int32)\n",
    "      text = \",\".join(split_lines[8:])\n",
    "\n",
    "      # From the splited line we save (filename, [bounding box points], text line).\n",
    "      # The filename will be useful in the future\n",
    "      bbox_and_words_list.append([path.stem, *bbox, text])\n",
    "\n",
    "  dataframe = pd.DataFrame(bbox_and_words_list, columns=['filename', 'x0', 'y0', 'x1', 'y1', 'x2', 'y2', 'x3', 'y3', 'line'], dtype=np.int16)\n",
    "  dataframe = dataframe.drop(columns=['x1', 'y1', 'x3', 'y3'])\n",
    "\n",
    "  return dataframe\n",
    "\n",
    "\n",
    "# Example usage\n",
    "bbox_file_path = sroie_folder_path / \"test/box\" / example_file\n",
    "print(\"== File content ==\")\n",
    "!head -n 5 \"{bbox_file_path}\"\n",
    "\n",
    "bbox = read_bbox_and_words(path=bbox_file_path)\n",
    "print(\"\\n== Dataframe ==\")\n",
    "bbox.head(5)"
   ],
   "metadata": {
    "collapsed": false,
    "pycharm": {
     "name": "#%%\n"
    }
   }
  },
  {
   "cell_type": "code",
   "execution_count": 11,
   "outputs": [
    {
     "name": "stdout",
     "output_type": "stream",
     "text": [
      "== File content ==\n",
      "{\r\n",
      "    \"company\": \"F&P PHARMACY\",\r\n",
      "    \"date\": \"02/03/2018\",\r\n",
      "    \"address\": \"NO.20. GROUND FLOOR, JALAN BS 10/6 TAMAN BUKIT SERDANG, SEKSYEN 10, 43300 SERI KEMBANGAN. SELANGOR DARUL EHSAN\",\r\n",
      "    \"total\": \"31.90\"\r\n",
      "}\n",
      "\n",
      "== Dataframe ==\n"
     ]
    },
    {
     "data": {
      "text/plain": "        company        date  \\\n0  F&P PHARMACY  02/03/2018   \n\n                                             address  total  \n0  NO.20. GROUND FLOOR, JALAN BS 10/6 TAMAN BUKIT...  31.90  ",
      "text/html": "<div>\n<style scoped>\n    .dataframe tbody tr th:only-of-type {\n        vertical-align: middle;\n    }\n\n    .dataframe tbody tr th {\n        vertical-align: top;\n    }\n\n    .dataframe thead th {\n        text-align: right;\n    }\n</style>\n<table border=\"1\" class=\"dataframe\">\n  <thead>\n    <tr style=\"text-align: right;\">\n      <th></th>\n      <th>company</th>\n      <th>date</th>\n      <th>address</th>\n      <th>total</th>\n    </tr>\n  </thead>\n  <tbody>\n    <tr>\n      <th>0</th>\n      <td>F&amp;P PHARMACY</td>\n      <td>02/03/2018</td>\n      <td>NO.20. GROUND FLOOR, JALAN BS 10/6 TAMAN BUKIT...</td>\n      <td>31.90</td>\n    </tr>\n  </tbody>\n</table>\n</div>"
     },
     "execution_count": 11,
     "metadata": {},
     "output_type": "execute_result"
    }
   ],
   "source": [
    "def read_entities(path: Path):\n",
    "  with open(path, 'r') as f:\n",
    "    data = json.load(f)\n",
    "\n",
    "  dataframe = pd.DataFrame([data])\n",
    "  return dataframe\n",
    "\n",
    "\n",
    "# Example usage\n",
    "entities_file_path = sroie_folder_path /  \"test/entities\" / example_file\n",
    "print(\"== File content ==\")\n",
    "!head \"{entities_file_path}\"\n",
    "\n",
    "entities = read_entities(path=entities_file_path)\n",
    "print(\"\\n\\n== Dataframe ==\")\n",
    "entities"
   ],
   "metadata": {
    "collapsed": false,
    "pycharm": {
     "name": "#%%\n"
    }
   }
  },
  {
   "cell_type": "code",
   "execution_count": 12,
   "outputs": [
    {
     "name": "stdout",
     "output_type": "stream",
     "text": [
      "Line: F&P PHARMACY\n",
      "Assigned label: COMPANY\n"
     ]
    }
   ],
   "source": [
    "# Assign a label to the line by checking the similarity\n",
    "# of the line and all the entities\n",
    "def assign_line_label(line: str, entities: pd.DataFrame):\n",
    "    line_set = line.replace(\",\", \"\").strip().split()\n",
    "    for i, column in enumerate(entities):\n",
    "        entity_values = entities.iloc[0, i].replace(\",\", \"\").strip()\n",
    "        entity_set = entity_values.split()\n",
    "\n",
    "\n",
    "        matches_count = 0\n",
    "        for l in line_set:\n",
    "            if any(SequenceMatcher(a=l, b=b).ratio() > 0.8 for b in entity_set):\n",
    "                matches_count += 1\n",
    "\n",
    "            if (column.upper() == 'ADDRESS' and (matches_count / len(line_set)) >= 0.5) or \\\n",
    "               (column.upper() != 'ADDRESS' and (matches_count == len(line_set))) or \\\n",
    "               matches_count == len(entity_set):\n",
    "                return column.upper()\n",
    "\n",
    "    return \"O\"\n",
    "\n",
    "\n",
    "line = bbox.loc[1,\"line\"]\n",
    "label = assign_line_label(line, entities)\n",
    "print(\"Line:\", line)\n",
    "print(\"Assigned label:\", label)"
   ],
   "metadata": {
    "collapsed": false,
    "pycharm": {
     "name": "#%%\n"
    }
   }
  },
  {
   "cell_type": "code",
   "execution_count": 13,
   "outputs": [
    {
     "data": {
      "text/plain": "        filename   x0   y0   x2   y2                                line  \\\n0   X51005365187   17   35  371   91                           3-1707067   \n1   X51005365187  222  115  511  143                        F&P PHARMACY   \n2   X51005365187  274  148  457  174                       (002309592-P)   \n3   X51005365187  204  183  529  210                NO.20. GROUND FLOOR,   \n4   X51005365187   99  218  632  244  JALAN BS 10/6 TAMAN BUKIT SERDANG,   \n5   X51005365187  111  250  623  275   SEKSYEN 10, 43300 SERI KEMBANGAN,   \n6   X51005365187  186  284  538  308                SELANGOR DARUL EHSAN   \n7   X51005365187  251  316  484  339                     TEL 03-89599823   \n8   X51005365187  182  351  346  378                          GST REG NO   \n9   X51005365187  274  387  461  409                         TAX INVOICE   \n10  X51005365187   34  434  127  457                              DOC NO   \n11  X51005365187  227  434  390  458                          CS00110840   \n12  X51005365187  476  433  535  463                               DATE:   \n13  X51005365187  562  436  700  458                          02/03/2018   \n14  X51005365187   33  468  131  492                             CASHIER   \n\n      label  \n0         O  \n1   COMPANY  \n2         O  \n3   ADDRESS  \n4   ADDRESS  \n5   ADDRESS  \n6   ADDRESS  \n7         O  \n8         O  \n9         O  \n10        O  \n11        O  \n12        O  \n13     DATE  \n14        O  ",
      "text/html": "<div>\n<style scoped>\n    .dataframe tbody tr th:only-of-type {\n        vertical-align: middle;\n    }\n\n    .dataframe tbody tr th {\n        vertical-align: top;\n    }\n\n    .dataframe thead th {\n        text-align: right;\n    }\n</style>\n<table border=\"1\" class=\"dataframe\">\n  <thead>\n    <tr style=\"text-align: right;\">\n      <th></th>\n      <th>filename</th>\n      <th>x0</th>\n      <th>y0</th>\n      <th>x2</th>\n      <th>y2</th>\n      <th>line</th>\n      <th>label</th>\n    </tr>\n  </thead>\n  <tbody>\n    <tr>\n      <th>0</th>\n      <td>X51005365187</td>\n      <td>17</td>\n      <td>35</td>\n      <td>371</td>\n      <td>91</td>\n      <td>3-1707067</td>\n      <td>O</td>\n    </tr>\n    <tr>\n      <th>1</th>\n      <td>X51005365187</td>\n      <td>222</td>\n      <td>115</td>\n      <td>511</td>\n      <td>143</td>\n      <td>F&amp;P PHARMACY</td>\n      <td>COMPANY</td>\n    </tr>\n    <tr>\n      <th>2</th>\n      <td>X51005365187</td>\n      <td>274</td>\n      <td>148</td>\n      <td>457</td>\n      <td>174</td>\n      <td>(002309592-P)</td>\n      <td>O</td>\n    </tr>\n    <tr>\n      <th>3</th>\n      <td>X51005365187</td>\n      <td>204</td>\n      <td>183</td>\n      <td>529</td>\n      <td>210</td>\n      <td>NO.20. GROUND FLOOR,</td>\n      <td>ADDRESS</td>\n    </tr>\n    <tr>\n      <th>4</th>\n      <td>X51005365187</td>\n      <td>99</td>\n      <td>218</td>\n      <td>632</td>\n      <td>244</td>\n      <td>JALAN BS 10/6 TAMAN BUKIT SERDANG,</td>\n      <td>ADDRESS</td>\n    </tr>\n    <tr>\n      <th>5</th>\n      <td>X51005365187</td>\n      <td>111</td>\n      <td>250</td>\n      <td>623</td>\n      <td>275</td>\n      <td>SEKSYEN 10, 43300 SERI KEMBANGAN,</td>\n      <td>ADDRESS</td>\n    </tr>\n    <tr>\n      <th>6</th>\n      <td>X51005365187</td>\n      <td>186</td>\n      <td>284</td>\n      <td>538</td>\n      <td>308</td>\n      <td>SELANGOR DARUL EHSAN</td>\n      <td>ADDRESS</td>\n    </tr>\n    <tr>\n      <th>7</th>\n      <td>X51005365187</td>\n      <td>251</td>\n      <td>316</td>\n      <td>484</td>\n      <td>339</td>\n      <td>TEL 03-89599823</td>\n      <td>O</td>\n    </tr>\n    <tr>\n      <th>8</th>\n      <td>X51005365187</td>\n      <td>182</td>\n      <td>351</td>\n      <td>346</td>\n      <td>378</td>\n      <td>GST REG NO</td>\n      <td>O</td>\n    </tr>\n    <tr>\n      <th>9</th>\n      <td>X51005365187</td>\n      <td>274</td>\n      <td>387</td>\n      <td>461</td>\n      <td>409</td>\n      <td>TAX INVOICE</td>\n      <td>O</td>\n    </tr>\n    <tr>\n      <th>10</th>\n      <td>X51005365187</td>\n      <td>34</td>\n      <td>434</td>\n      <td>127</td>\n      <td>457</td>\n      <td>DOC NO</td>\n      <td>O</td>\n    </tr>\n    <tr>\n      <th>11</th>\n      <td>X51005365187</td>\n      <td>227</td>\n      <td>434</td>\n      <td>390</td>\n      <td>458</td>\n      <td>CS00110840</td>\n      <td>O</td>\n    </tr>\n    <tr>\n      <th>12</th>\n      <td>X51005365187</td>\n      <td>476</td>\n      <td>433</td>\n      <td>535</td>\n      <td>463</td>\n      <td>DATE:</td>\n      <td>O</td>\n    </tr>\n    <tr>\n      <th>13</th>\n      <td>X51005365187</td>\n      <td>562</td>\n      <td>436</td>\n      <td>700</td>\n      <td>458</td>\n      <td>02/03/2018</td>\n      <td>DATE</td>\n    </tr>\n    <tr>\n      <th>14</th>\n      <td>X51005365187</td>\n      <td>33</td>\n      <td>468</td>\n      <td>131</td>\n      <td>492</td>\n      <td>CASHIER</td>\n      <td>O</td>\n    </tr>\n  </tbody>\n</table>\n</div>"
     },
     "execution_count": 13,
     "metadata": {},
     "output_type": "execute_result"
    }
   ],
   "source": [
    "def assign_labels(words: pd.DataFrame, entities: pd.DataFrame):\n",
    "    max_area = {\"TOTAL\": (0, -1), \"DATE\": (0, -1)}  # Value, index\n",
    "    already_labeled = {\"TOTAL\": False,\n",
    "                       \"DATE\": False,\n",
    "                       \"ADDRESS\": False,\n",
    "                       \"COMPANY\": False,\n",
    "                       \"O\": False\n",
    "    }\n",
    "\n",
    "    # Go through every line in $words and assign it a label\n",
    "    labels = []\n",
    "    for i, line in enumerate(words['line']):\n",
    "        label = assign_line_label(line, entities)\n",
    "\n",
    "        already_labeled[label] = True\n",
    "        if (label == \"ADDRESS\" and already_labeled[\"TOTAL\"]) or \\\n",
    "           (label == \"COMPANY\" and (already_labeled[\"DATE\"] or already_labeled[\"TOTAL\"])):\n",
    "            label = \"O\"\n",
    "\n",
    "        # Assign to the largest bounding box\n",
    "        if label in [\"TOTAL\", \"DATE\"]:\n",
    "            x0_loc = words.columns.get_loc(\"x0\")\n",
    "            bbox = words.iloc[i, x0_loc:x0_loc+4].to_list()\n",
    "            area = (bbox[2] - bbox[0]) + (bbox[3] - bbox[1])\n",
    "\n",
    "            if max_area[label][0] < area:\n",
    "                max_area[label] = (area, i)\n",
    "\n",
    "            label = \"O\"\n",
    "\n",
    "        labels.append(label)\n",
    "\n",
    "    labels[max_area[\"DATE\"][1]] = \"DATE\"\n",
    "    labels[max_area[\"TOTAL\"][1]] = \"TOTAL\"\n",
    "\n",
    "    words[\"label\"] = labels\n",
    "    return words\n",
    "\n",
    "\n",
    "# Example usage\n",
    "bbox_labeled = assign_labels(bbox, entities)\n",
    "bbox_labeled.head(15)"
   ],
   "metadata": {
    "collapsed": false,
    "pycharm": {
     "name": "#%%\n"
    }
   }
  },
  {
   "cell_type": "code",
   "execution_count": 14,
   "outputs": [
    {
     "name": "stdout",
     "output_type": "stream",
     "text": [
      "Original row:\n"
     ]
    },
    {
     "data": {
      "text/plain": "       filename   x0   y0   x2   y2          line    label\n1  X51005365187  222  115  511  143  F&P PHARMACY  COMPANY",
      "text/html": "<div>\n<style scoped>\n    .dataframe tbody tr th:only-of-type {\n        vertical-align: middle;\n    }\n\n    .dataframe tbody tr th {\n        vertical-align: top;\n    }\n\n    .dataframe thead th {\n        text-align: right;\n    }\n</style>\n<table border=\"1\" class=\"dataframe\">\n  <thead>\n    <tr style=\"text-align: right;\">\n      <th></th>\n      <th>filename</th>\n      <th>x0</th>\n      <th>y0</th>\n      <th>x2</th>\n      <th>y2</th>\n      <th>line</th>\n      <th>label</th>\n    </tr>\n  </thead>\n  <tbody>\n    <tr>\n      <th>1</th>\n      <td>X51005365187</td>\n      <td>222</td>\n      <td>115</td>\n      <td>511</td>\n      <td>143</td>\n      <td>F&amp;P PHARMACY</td>\n      <td>COMPANY</td>\n    </tr>\n  </tbody>\n</table>\n</div>"
     },
     "metadata": {},
     "output_type": "display_data"
    },
    {
     "name": "stdout",
     "output_type": "stream",
     "text": [
      "Splitted row:\n"
     ]
    },
    {
     "data": {
      "text/plain": "       filename   x0   y0   x2   y2      line    label\n0  X51005365187  222  115  294  143       F&P  COMPANY\n1  X51005365187  299  115  491  143  PHARMACY  COMPANY",
      "text/html": "<div>\n<style scoped>\n    .dataframe tbody tr th:only-of-type {\n        vertical-align: middle;\n    }\n\n    .dataframe tbody tr th {\n        vertical-align: top;\n    }\n\n    .dataframe thead th {\n        text-align: right;\n    }\n</style>\n<table border=\"1\" class=\"dataframe\">\n  <thead>\n    <tr style=\"text-align: right;\">\n      <th></th>\n      <th>filename</th>\n      <th>x0</th>\n      <th>y0</th>\n      <th>x2</th>\n      <th>y2</th>\n      <th>line</th>\n      <th>label</th>\n    </tr>\n  </thead>\n  <tbody>\n    <tr>\n      <th>0</th>\n      <td>X51005365187</td>\n      <td>222</td>\n      <td>115</td>\n      <td>294</td>\n      <td>143</td>\n      <td>F&amp;P</td>\n      <td>COMPANY</td>\n    </tr>\n    <tr>\n      <th>1</th>\n      <td>X51005365187</td>\n      <td>299</td>\n      <td>115</td>\n      <td>491</td>\n      <td>143</td>\n      <td>PHARMACY</td>\n      <td>COMPANY</td>\n    </tr>\n  </tbody>\n</table>\n</div>"
     },
     "execution_count": 14,
     "metadata": {},
     "output_type": "execute_result"
    }
   ],
   "source": [
    "def split_line(line: pd.Series):\n",
    "  line_copy = line.copy()\n",
    "\n",
    "  line_str = line_copy.loc[\"line\"]\n",
    "  words = line_str.split(\" \")\n",
    "\n",
    "  # Filter unwanted tokens\n",
    "  words = [word for word in words if len(word) >= 1]\n",
    "\n",
    "  x0, y0, x2, y2 = line_copy.loc[['x0', 'y0', 'x2', 'y2']]\n",
    "  bbox_width = x2 - x0\n",
    "\n",
    "\n",
    "  new_lines = []\n",
    "  for index, word in enumerate(words):\n",
    "    x2 = x0 + int(bbox_width * len(word)/len(line_str))\n",
    "    line_copy.at['x0', 'x2', 'line'] = [x0, x2, word]\n",
    "    new_lines.append(line_copy.to_list())\n",
    "    x0 = x2 + 5\n",
    "\n",
    "  return new_lines\n",
    "\n",
    "\n",
    "# Example usage\n",
    "new_lines = split_line(bbox_labeled.loc[1])\n",
    "print(\"Original row:\")\n",
    "display(bbox_labeled.loc[1:1,:])\n",
    "\n",
    "print(\"Splitted row:\")\n",
    "pd.DataFrame(new_lines, columns=bbox_labeled.columns)"
   ],
   "metadata": {
    "collapsed": false,
    "pycharm": {
     "name": "#%%\n"
    }
   }
  },
  {
   "cell_type": "code",
   "execution_count": 15,
   "outputs": [],
   "source": [
    "from time import perf_counter\n",
    "def dataset_creator(folder: Path):\n",
    "  bbox_folder = folder / 'box'\n",
    "  entities_folder = folder / 'entities'\n",
    "  img_folder = folder / 'img'\n",
    "\n",
    "  # Sort by filename so that when zipping them together\n",
    "  # we don't get some other file (just in case)\n",
    "  entities_files = sorted(entities_folder.glob(\"*.txt\"))\n",
    "  bbox_files = sorted(bbox_folder.glob(\"*.txt\"))\n",
    "  img_files = sorted(img_folder.glob(\"*.jpg\"))\n",
    "\n",
    "  data = []\n",
    "\n",
    "  print(\"Reading dataset:\")\n",
    "  for bbox_file, entities_file, img_file in tqdm(zip(bbox_files, entities_files, img_files), total=len(bbox_files)):\n",
    "    # Read the files\n",
    "    bbox = read_bbox_and_words(bbox_file)\n",
    "    entities = read_entities(entities_file)\n",
    "    image = Image.open(img_file)\n",
    "\n",
    "    # Assign labels to lines in bbox using entities\n",
    "    bbox_labeled = assign_labels(bbox, entities)\n",
    "    del bbox\n",
    "\n",
    "    # Split lines into separate tokens\n",
    "    new_bbox_l = []\n",
    "    for index, row in bbox_labeled.iterrows():\n",
    "      new_bbox_l += split_line(row)\n",
    "    new_bbox = pd.DataFrame(new_bbox_l, columns=bbox_labeled.columns, dtype=np.int16)\n",
    "    del bbox_labeled\n",
    "\n",
    "\n",
    "    # Do another label assignment to keep the labeling more precise\n",
    "    for index, row in new_bbox.iterrows():\n",
    "      label = row['label']\n",
    "\n",
    "      if label != \"O\":\n",
    "        entity_values = entities.iloc[0, entities.columns.get_loc(label.lower())]\n",
    "        entity_set = entity_values.split()\n",
    "\n",
    "        if any(SequenceMatcher(a=row['line'], b=b).ratio() > 0.7 for b in entity_set):\n",
    "            label = \"S-\" + label\n",
    "        else:\n",
    "            label = \"O\"\n",
    "\n",
    "      new_bbox.at[index, 'label'] = label\n",
    "\n",
    "    width, height = image.size\n",
    "\n",
    "    data.append([new_bbox, width, height])\n",
    "\n",
    "  return data"
   ],
   "metadata": {
    "collapsed": false,
    "pycharm": {
     "name": "#%%\n"
    }
   }
  },
  {
   "cell_type": "code",
   "execution_count": 16,
   "outputs": [
    {
     "name": "stdout",
     "output_type": "stream",
     "text": [
      "Reading dataset:\n"
     ]
    },
    {
     "name": "stderr",
     "output_type": "stream",
     "text": [
      "  0%|          | 0/626 [00:00<?, ?it/s]/Users/andrejb/infra/shared/katana-git/sparrow/venv/lib/python3.7/site-packages/ipykernel_launcher.py:18: FutureWarning: Could not cast to int16, falling back to object. This behavior is deprecated. In a future version, when a dtype is passed to 'DataFrame', either all columns will be cast to that dtype, or a TypeError will be raised\n",
      "/Users/andrejb/infra/shared/katana-git/sparrow/venv/lib/python3.7/site-packages/ipykernel_launcher.py:1: FutureWarning: Could not cast to int16, falling back to object. This behavior is deprecated. In a future version, when a dtype is passed to 'DataFrame', either all columns will be cast to that dtype, or a TypeError will be raised\n",
      "  \"\"\"Entry point for launching an IPython kernel.\n",
      "100%|██████████| 626/626 [01:01<00:00, 10.15it/s]\n"
     ]
    },
    {
     "name": "stdout",
     "output_type": "stream",
     "text": [
      "Reading dataset:\n"
     ]
    },
    {
     "name": "stderr",
     "output_type": "stream",
     "text": [
      "  0%|          | 0/347 [00:00<?, ?it/s]/Users/andrejb/infra/shared/katana-git/sparrow/venv/lib/python3.7/site-packages/ipykernel_launcher.py:2: FutureWarning: Could not cast to int16, falling back to object. This behavior is deprecated. In a future version, when a dtype is passed to 'DataFrame', either all columns will be cast to that dtype, or a TypeError will be raised\n",
      "  \n",
      "100%|██████████| 347/347 [00:33<00:00, 10.29it/s]\n"
     ]
    }
   ],
   "source": [
    "dataset_train = dataset_creator(sroie_folder_path / 'train')\n",
    "dataset_test = dataset_creator(sroie_folder_path / 'test')"
   ],
   "metadata": {
    "collapsed": false,
    "pycharm": {
     "name": "#%%\n"
    }
   }
  },
  {
   "cell_type": "code",
   "execution_count": 17,
   "outputs": [],
   "source": [
    "def normalize(points: list, width: int, height: int) -> list:\n",
    "  x0, y0, x2, y2 = [int(p) for p in points]\n",
    "\n",
    "  x0 = int(1000 * (x0 / width))\n",
    "  x2 = int(1000 * (x2 / width))\n",
    "  y0 = int(1000 * (y0 / height))\n",
    "  y2 = int(1000 * (y2 / height))\n",
    "\n",
    "  return [x0, y0, x2, y2]\n",
    "\n",
    "\n",
    "def write_dataset(dataset: list, output_dir: Path, name: str):\n",
    "  print(f\"Writing {name}ing dataset:\")\n",
    "  with open(output_dir / f\"{name}.txt\", \"w+\", encoding=\"utf8\") as file, \\\n",
    "       open(output_dir / f\"{name}_box.txt\", \"w+\", encoding=\"utf8\") as file_bbox, \\\n",
    "       open(output_dir / f\"{name}_image.txt\", \"w+\", encoding=\"utf8\") as file_image:\n",
    "\n",
    "      # Go through each dataset\n",
    "      for datas in tqdm(dataset, total=len(dataset)):\n",
    "        data, width, height = datas\n",
    "\n",
    "        filename = data.iloc[0, data.columns.get_loc('filename')]\n",
    "\n",
    "        # Go through every row in dataset\n",
    "        for index, row in data.iterrows():\n",
    "          bbox = [int(p) for p in row[['x0', 'y0', 'x2', 'y2']]]\n",
    "          normalized_bbox = normalize(bbox, width, height)\n",
    "\n",
    "          file.write(\"{}\\t{}\\n\".format(row['line'], row['label']))\n",
    "          file_bbox.write(\"{}\\t{} {} {} {}\\n\".format(row['line'], *normalized_bbox))\n",
    "          file_image.write(\"{}\\t{} {} {} {}\\t{} {}\\t{}\\n\".format(row['line'], *bbox, width, height, filename))\n",
    "\n",
    "        # Write a second newline to separate dataset from others\n",
    "        file.write(\"\\n\")\n",
    "        file_bbox.write(\"\\n\")\n",
    "        file_image.write(\"\\n\")"
   ],
   "metadata": {
    "collapsed": false,
    "pycharm": {
     "name": "#%%\n"
    }
   }
  },
  {
   "cell_type": "code",
   "execution_count": 18,
   "outputs": [
    {
     "name": "stdout",
     "output_type": "stream",
     "text": [
      "Writing training dataset:\n"
     ]
    },
    {
     "name": "stderr",
     "output_type": "stream",
     "text": [
      "100%|██████████| 626/626 [00:25<00:00, 24.31it/s]\n"
     ]
    },
    {
     "name": "stdout",
     "output_type": "stream",
     "text": [
      "Writing testing dataset:\n"
     ]
    },
    {
     "name": "stderr",
     "output_type": "stream",
     "text": [
      "100%|██████████| 347/347 [00:13<00:00, 24.84it/s]\n"
     ]
    }
   ],
   "source": [
    "dataset_directory = Path('/Users/andrejb/infra/shared/katana-git/sparrow/data/sroie','dataset')\n",
    "\n",
    "dataset_directory.mkdir(parents=True, exist_ok=True)\n",
    "\n",
    "write_dataset(dataset_train, dataset_directory, 'train')\n",
    "write_dataset(dataset_test, dataset_directory, 'test')\n",
    "\n",
    "# Creating the 'labels.txt' file to the the model what categories to predict.\n",
    "labels = ['COMPANY', 'DATE', 'ADDRESS', 'TOTAL']\n",
    "IOB_tags = ['S']\n",
    "with open(dataset_directory / 'labels.txt', 'w') as f:\n",
    "  for tag in IOB_tags:\n",
    "    for label in labels:\n",
    "      f.write(f\"{tag}-{label}\\n\")\n",
    "  # Writes in the last label O - meant for all non labeled words\n",
    "  f.write(\"O\")"
   ],
   "metadata": {
    "collapsed": false,
    "pycharm": {
     "name": "#%%\n"
    }
   }
  },
  {
   "cell_type": "code",
   "execution_count": null,
   "outputs": [],
   "source": [],
   "metadata": {
    "collapsed": false,
    "pycharm": {
     "name": "#%%\n"
    }
   }
  }
 ],
 "metadata": {
  "kernelspec": {
   "display_name": "Python 3",
   "language": "python",
   "name": "python3"
  },
  "language_info": {
   "codemirror_mode": {
    "name": "ipython",
    "version": 2
   },
   "file_extension": ".py",
   "mimetype": "text/x-python",
   "name": "python",
   "nbconvert_exporter": "python",
   "pygments_lexer": "ipython2",
   "version": "2.7.6"
  }
 },
 "nbformat": 4,
 "nbformat_minor": 0
}