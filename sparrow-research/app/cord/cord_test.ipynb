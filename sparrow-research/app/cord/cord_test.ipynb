{
 "cells": [
  {
   "cell_type": "code",
   "execution_count": 4,
   "metadata": {
    "collapsed": true
   },
   "outputs": [
    {
     "name": "stdout",
     "output_type": "stream",
     "text": [
      "Downloading and preparing dataset cord/cord to /Users/andrejb/.cache/huggingface/datasets/cord/cord/1.0.0/fa0960248a7d19cf19675785d5d3dd9eab83b4aea9274b97943d534be56d8a91...\n"
     ]
    },
    {
     "data": {
      "text/plain": "0 examples [00:00, ? examples/s]",
      "application/vnd.jupyter.widget-view+json": {
       "version_major": 2,
       "version_minor": 0,
       "model_id": "3a6be5bd3d004c67832bef9d825b8a68"
      }
     },
     "metadata": {},
     "output_type": "display_data"
    },
    {
     "data": {
      "text/plain": "0 examples [00:00, ? examples/s]",
      "application/vnd.jupyter.widget-view+json": {
       "version_major": 2,
       "version_minor": 0,
       "model_id": "bd88ee9c467646aea94b22690e0f5b52"
      }
     },
     "metadata": {},
     "output_type": "display_data"
    },
    {
     "data": {
      "text/plain": "0 examples [00:00, ? examples/s]",
      "application/vnd.jupyter.widget-view+json": {
       "version_major": 2,
       "version_minor": 0,
       "model_id": "ecac6a8edc9249fd8184c03cd706ad5f"
      }
     },
     "metadata": {},
     "output_type": "display_data"
    },
    {
     "name": "stdout",
     "output_type": "stream",
     "text": [
      "Dataset cord downloaded and prepared to /Users/andrejb/.cache/huggingface/datasets/cord/cord/1.0.0/fa0960248a7d19cf19675785d5d3dd9eab83b4aea9274b97943d534be56d8a91. Subsequent calls will reuse this data.\n"
     ]
    },
    {
     "data": {
      "text/plain": "  0%|          | 0/3 [00:00<?, ?it/s]",
      "application/vnd.jupyter.widget-view+json": {
       "version_major": 2,
       "version_minor": 0,
       "model_id": "51d021443f06426b8517dfa69e83d114"
      }
     },
     "metadata": {},
     "output_type": "display_data"
    }
   ],
   "source": [
    "from datasets import load_dataset\n",
    "\n",
    "dataset = load_dataset('/Users/andrejb/infra/shared/katana-git/sparrow/app/cord/cord.py')\n",
    "# dataset = load_dataset('katanaml/cord')"
   ]
  },
  {
   "cell_type": "code",
   "execution_count": 5,
   "outputs": [
    {
     "data": {
      "text/plain": "DatasetDict({\n    train: Dataset({\n        features: ['id', 'words', 'bboxes', 'ner_tags', 'image_path'],\n        num_rows: 800\n    })\n    test: Dataset({\n        features: ['id', 'words', 'bboxes', 'ner_tags', 'image_path'],\n        num_rows: 100\n    })\n    validation: Dataset({\n        features: ['id', 'words', 'bboxes', 'ner_tags', 'image_path'],\n        num_rows: 100\n    })\n})"
     },
     "execution_count": 5,
     "metadata": {},
     "output_type": "execute_result"
    }
   ],
   "source": [
    "dataset"
   ],
   "metadata": {
    "collapsed": false,
    "pycharm": {
     "name": "#%%\n"
    }
   }
  },
  {
   "cell_type": "code",
   "execution_count": 3,
   "outputs": [],
   "source": [
    "train = dataset['train']"
   ],
   "metadata": {
    "collapsed": false,
    "pycharm": {
     "name": "#%%\n"
    }
   }
  },
  {
   "cell_type": "code",
   "execution_count": 4,
   "outputs": [
    {
     "data": {
      "text/plain": "[[296, 288, 312, 300],\n [298, 310, 312, 322],\n [298, 330, 314, 342],\n [300, 351, 317, 362],\n [298, 370, 317, 382],\n [300, 390, 319, 402],\n [303, 410, 321, 422],\n [307, 430, 324, 441],\n [305, 449, 324, 461],\n [310, 469, 326, 479],\n [307, 487, 326, 500],\n [310, 509, 328, 520],\n [307, 529, 326, 540],\n [310, 547, 326, 560],\n [307, 569, 324, 580],\n [307, 589, 324, 600],\n [303, 608, 321, 620],\n [303, 629, 321, 641],\n [300, 651, 319, 665],\n [300, 672, 319, 686],\n [300, 695, 319, 709],\n [300, 717, 319, 729],\n [268, 287, 282, 300],\n [349, 283, 409, 300],\n [421, 281, 508, 301],\n [516, 281, 577, 297],\n [627, 279, 715, 299],\n [270, 308, 284, 322],\n [351, 304, 398, 322],\n [407, 304, 497, 322],\n [504, 302, 564, 319],\n [618, 299, 715, 319],\n [270, 328, 284, 342],\n [350, 324, 482, 342],\n [490, 322, 578, 339],\n [629, 319, 717, 339],\n [273, 348, 287, 362],\n [354, 345, 402, 362],\n [409, 344, 483, 361],\n [493, 344, 539, 359],\n [629, 339, 715, 359],\n [275, 370, 289, 382],\n [354, 365, 414, 382],\n [423, 365, 486, 382],\n [491, 363, 578, 378],\n [629, 359, 715, 379],\n [277, 388, 291, 402],\n [354, 385, 416, 402],\n [425, 385, 472, 402],\n [481, 384, 525, 401],\n [699, 381, 715, 396],\n [280, 408, 293, 421],\n [356, 405, 458, 422],\n [467, 404, 539, 419],\n [548, 402, 581, 419],\n [629, 399, 717, 418],\n [280, 429, 293, 441],\n [361, 425, 407, 441],\n [414, 424, 460, 441],\n [631, 419, 717, 438],\n [282, 449, 296, 461],\n [361, 444, 407, 459],\n [414, 444, 502, 459],\n [629, 439, 717, 458],\n [284, 467, 298, 479],\n [361, 464, 421, 481],\n [428, 462, 488, 478],\n [495, 461, 553, 478],\n [629, 459, 715, 478],\n [280, 484, 300, 501],\n [361, 483, 421, 500],\n [428, 482, 512, 500],\n [628, 479, 717, 496],\n [280, 504, 300, 520],\n [363, 503, 435, 520],\n [444, 501, 530, 518],\n [631, 496, 717, 515],\n [282, 526, 298, 540],\n [361, 521, 421, 538],\n [428, 520, 502, 537],\n [509, 518, 571, 535],\n [634, 515, 729, 532],\n [282, 546, 296, 560],\n [361, 541, 421, 558],\n [430, 540, 516, 557],\n [524, 537, 585, 551],\n [636, 533, 724, 552],\n [280, 566, 296, 580],\n [361, 561, 407, 578],\n [413, 560, 530, 576],\n [539, 557, 587, 572],\n [622, 552, 729, 572],\n [280, 587, 293, 600],\n [361, 581, 421, 600],\n [429, 578, 518, 594],\n [525, 575, 587, 595],\n [641, 572, 731, 592],\n [273, 604, 293, 621],\n [358, 601, 407, 618],\n [414, 600, 462, 617],\n [641, 594, 733, 614],\n [277, 629, 291, 643],\n [361, 623, 407, 640],\n [416, 620, 476, 640],\n [643, 615, 736, 637],\n [275, 651, 289, 665],\n [358, 645, 421, 663],\n [430, 643, 506, 662],\n [513, 641, 578, 658],\n [645, 637, 738, 658],\n [275, 672, 289, 688],\n [358, 668, 421, 685],\n [432, 666, 479, 683],\n [488, 665, 537, 682],\n [719, 660, 740, 677],\n [273, 694, 289, 709],\n [356, 688, 435, 706],\n [444, 686, 537, 705],\n [646, 682, 743, 700],\n [275, 717, 289, 731],\n [361, 712, 407, 729],\n [416, 711, 465, 728],\n [476, 709, 555, 726],\n [652, 703, 743, 723],\n [416, 755, 556, 770],\n [609, 748, 747, 767],\n [447, 777, 557, 792],\n [641, 770, 747, 791],\n [506, 796, 557, 814],\n [643, 791, 750, 811],\n [434, 820, 557, 837],\n [701, 813, 750, 831],\n [307, 881, 386, 896],\n [393, 878, 472, 895],\n [483, 861, 751, 889]]"
     },
     "execution_count": 4,
     "metadata": {},
     "output_type": "execute_result"
    }
   ],
   "source": [
    "train['bboxes'][0]"
   ],
   "metadata": {
    "collapsed": false,
    "pycharm": {
     "name": "#%%\n"
    }
   }
  },
  {
   "cell_type": "code",
   "execution_count": 5,
   "outputs": [
    {
     "data": {
      "text/plain": "['O',\n 'I-menu.cnt',\n 'I-menu.discountprice',\n 'I-menu.nm',\n 'I-menu.num',\n 'I-menu.price',\n 'I-menu.sub_cnt',\n 'I-menu.sub_nm',\n 'I-menu.sub_price',\n 'I-menu.unitprice',\n 'I-sub_total.discount_price',\n 'I-sub_total.etc',\n 'I-sub_total.service_price',\n 'I-sub_total.subtotal_price',\n 'I-sub_total.tax_price',\n 'I-total.cashprice',\n 'I-total.changeprice',\n 'I-total.creditcardprice',\n 'I-total.emoneyprice',\n 'I-total.menuqty_cnt',\n 'I-total.menutype_cnt',\n 'I-total.total_etc',\n 'I-total.total_price']"
     },
     "execution_count": 5,
     "metadata": {},
     "output_type": "execute_result"
    }
   ],
   "source": [
    "train.features['ner_tags'].feature.names"
   ],
   "metadata": {
    "collapsed": false,
    "pycharm": {
     "name": "#%%\n"
    }
   }
  },
  {
   "cell_type": "code",
   "execution_count": 6,
   "outputs": [
    {
     "data": {
      "text/plain": "'/Users/andrejb/.cache/huggingface/datasets/downloads/extracted/35eef4c1b6f11665d08a3f834b6db62dc8cb98753a3ec267f6ce8dff32cd91f6/CORD/train/image/receipt_00000.png'"
     },
     "execution_count": 6,
     "metadata": {},
     "output_type": "execute_result"
    }
   ],
   "source": [
    "train['image_path'][0]"
   ],
   "metadata": {
    "collapsed": false,
    "pycharm": {
     "name": "#%%\n"
    }
   }
  },
  {
   "cell_type": "code",
   "execution_count": 7,
   "outputs": [
    {
     "data": {
      "text/plain": "['x',\n 'x',\n 'x',\n 'x',\n 'x',\n 'x',\n 'x',\n 'x',\n 'x',\n 'x',\n 'x',\n 'x',\n 'x',\n 'x',\n 'x',\n 'x',\n 'x',\n 'x',\n 'x',\n 'x',\n 'x',\n 'x',\n '1',\n 'Nasi',\n 'Campur',\n 'Bali',\n '75,000',\n '1',\n 'Bbk',\n 'Bengil',\n 'Nasi',\n '125,000',\n '1',\n 'MilkShake',\n 'Starwb',\n '37,000',\n '1',\n 'Ice',\n 'Lemon',\n 'Tea',\n '24,000',\n '1',\n 'Nasi',\n 'Ayam',\n 'Dewata',\n '70,000',\n '3',\n 'Free',\n 'Ice',\n 'Tea',\n '0',\n '1',\n 'Organic',\n 'Green',\n 'Sa',\n '65,000',\n '1',\n 'Ice',\n 'Tea',\n '18,000',\n '1',\n 'Ice',\n 'Orange',\n '29,000',\n '1',\n 'Ayam',\n 'Suir',\n 'Bali',\n '85,000',\n '2',\n 'Tahu',\n 'Goreng',\n '36,000',\n '2',\n 'Tempe',\n 'Goreng',\n '36,000',\n '1',\n 'Tahu',\n 'Telor',\n 'Asin',\n '40,000.',\n '1',\n 'Nasi',\n 'Goreng',\n 'Samb',\n '70,000',\n '3',\n 'Bbk',\n 'Panggang',\n 'Sam',\n '366,000',\n '1',\n 'Ayam',\n 'Sambal',\n 'Hija',\n '92,000',\n '2',\n 'Hot',\n 'Tea',\n '44,000',\n '1',\n 'Ice',\n 'Kopi',\n '32,000',\n '1',\n 'Tahu',\n 'Telor',\n 'Asin',\n '40,000',\n '1',\n 'Free',\n 'Ice',\n 'Tea',\n '0',\n '1',\n 'Bebek',\n 'Street',\n '44,000',\n '1',\n 'Ice',\n 'Tea',\n 'Tawar',\n '18,000',\n 'Sub-Total',\n '1,346,000',\n 'Service',\n '100,950',\n 'PB1',\n '144,695',\n 'Rounding',\n '-45',\n 'Grand',\n 'Total',\n '1,591,600']"
     },
     "execution_count": 7,
     "metadata": {},
     "output_type": "execute_result"
    }
   ],
   "source": [
    "train['words'][0]"
   ],
   "metadata": {
    "collapsed": false,
    "pycharm": {
     "name": "#%%\n"
    }
   }
  },
  {
   "cell_type": "code",
   "execution_count": 7,
   "outputs": [],
   "source": [],
   "metadata": {
    "collapsed": false,
    "pycharm": {
     "name": "#%%\n"
    }
   }
  }
 ],
 "metadata": {
  "kernelspec": {
   "display_name": "Python 3",
   "language": "python",
   "name": "python3"
  },
  "language_info": {
   "codemirror_mode": {
    "name": "ipython",
    "version": 2
   },
   "file_extension": ".py",
   "mimetype": "text/x-python",
   "name": "python",
   "nbconvert_exporter": "python",
   "pygments_lexer": "ipython2",
   "version": "2.7.6"
  }
 },
 "nbformat": 4,
 "nbformat_minor": 0
}